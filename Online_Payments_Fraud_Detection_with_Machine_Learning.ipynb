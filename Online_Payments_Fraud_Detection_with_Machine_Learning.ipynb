{
  "nbformat": 4,
  "nbformat_minor": 0,
  "metadata": {
    "colab": {
      "provenance": [],
      "mount_file_id": "1aFe8PlyOqS2njUSkvWAsQxL67O4WGQ3I",
      "authorship_tag": "ABX9TyNhvRRn23RMTVAFVHSZehp6",
      "include_colab_link": true
    },
    "kernelspec": {
      "name": "python3",
      "display_name": "Python 3"
    },
    "language_info": {
      "name": "python"
    }
  },
  "cells": [
    {
      "cell_type": "markdown",
      "metadata": {
        "id": "view-in-github",
        "colab_type": "text"
      },
      "source": [
        "<a href=\"https://colab.research.google.com/github/forrestng88/Machine-Learning-Practical/blob/main/Online_Payments_Fraud_Detection_with_Machine_Learning.ipynb\" target=\"_parent\"><img src=\"https://colab.research.google.com/assets/colab-badge.svg\" alt=\"Open In Colab\"/></a>"
      ]
    },
    {
      "cell_type": "markdown",
      "source": [
        "# Online Payments Fraud Detection with Machine Learning\n",
        "[Dataset](https://www.kaggle.com/ealaxi/paysim1/download)\n",
        "\n",
        "Below are all the columns from the dataset I’m using here:\n",
        "\n",
        "1.   List item\n",
        "2.   List item\n",
        "\n",
        "\n",
        "1. step: represents a unit of time where 1 step equals 1 hour\n",
        "2. type: type of online transaction\n",
        "3. amount: the amount of the transaction\n",
        "4. nameOrig: customer starting the transaction\n",
        "5. oldbalanceOrg: balance before the transaction\n",
        "6. newbalanceOrig: balance after the transaction\n",
        "7. nameDest: recipient of the transaction\n",
        "8. oldbalanceDest: initial balance of recipient before the transaction\n",
        "9. newbalanceDest: the new balance of recipient after the transaction\n",
        "10. isFraud: fraud transaction\n",
        "\n",
        "\n"
      ],
      "metadata": {
        "id": "AdbHSMh9q5ef"
      }
    },
    {
      "cell_type": "code",
      "execution_count": null,
      "metadata": {
        "id": "rNlDUCe1qxlZ"
      },
      "outputs": [],
      "source": []
    },
    {
      "cell_type": "markdown",
      "source": [],
      "metadata": {
        "id": "Cw7uaNajq3lr"
      }
    }
  ]
}